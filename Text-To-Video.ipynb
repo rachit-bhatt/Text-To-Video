{
 "cells": [
  {
   "cell_type": "code",
   "execution_count": 1,
   "metadata": {},
   "outputs": [],
   "source": [
    "import torch\n",
    "from diffusers import TextToVideoZeroPipeline\n",
    "import numpy as np\n",
    "import cv2"
   ]
  },
  {
   "cell_type": "code",
   "execution_count": 2,
   "metadata": {},
   "outputs": [],
   "source": [
    "FPS = 1\n",
    "SECONDS = 600"
   ]
  },
  {
   "cell_type": "code",
   "execution_count": 3,
   "metadata": {},
   "outputs": [
    {
     "data": {
      "application/vnd.jupyter.widget-view+json": {
       "model_id": "3d1c22e2b0cc404eb5011bf6995b671e",
       "version_major": 2,
       "version_minor": 0
      },
      "text/plain": [
       "Loading pipeline components...:   0%|          | 0/7 [00:00<?, ?it/s]"
      ]
     },
     "metadata": {},
     "output_type": "display_data"
    }
   ],
   "source": [
    "model_id = \"stable-diffusion-v1-5/stable-diffusion-v1-5\"\n",
    "pipe = TextToVideoZeroPipeline.from_pretrained(model_id, torch_dtype=torch.float16).to(\"cuda\")"
   ]
  },
  {
   "cell_type": "code",
   "execution_count": null,
   "metadata": {},
   "outputs": [],
   "source": [
    "seed = 0\n",
    "#video_length = 24  #24 ÷ 4fps = 6 seconds\n",
    "video_length = FPS * SECONDS\n",
    "chunk_size = 8"
   ]
  },
  {
   "cell_type": "code",
   "execution_count": null,
   "metadata": {},
   "outputs": [],
   "source": [
    "prompt = '''\n",
    "GTA VI Trailer.\n",
    "'''"
   ]
  },
  {
   "cell_type": "code",
   "execution_count": null,
   "metadata": {},
   "outputs": [
    {
     "name": "stderr",
     "output_type": "stream",
     "text": [
      "Token indices sequence length is longer than the specified maximum sequence length for this model (1165 > 77). Running this sequence through the model will result in indexing errors\n",
      "The following part of your input was truncated because CLIP can only handle sequences up to 77 tokens: ['’ s character , alex , and her close friend , a fellow adventurer , stand in the grand hallway of a mansion rumored to have hidden treasures and secrets from centuries ago . the pair has been following a series of cryptic clues that have led them here . they ’ ve worked well together so far , solving puzzles , but now they face the ultimate challenge — finding the final clue hidden somewhere in the mansion . alex is feeling a rush of excitement , adrenaline building as they get closer to the heart of the mystery . the final clue , as per the map they discovered earlier , is located somewhere in the mansion . the twist : the only way to unlock it is through a challenge of the senses . [ 1 : 0 0 - 2 : 0 0 ] the blindfold challenge her friend , sensing alex ’ s competitive spirit , grins mischievously . \" are you ready for the final challenge ?\" they ask . alex , intrigued but a little hesitant , agrees . \" what ’ s the challenge ?\" her friend pulls out a soft , velvet blindfold . \" you ’ ll need to rely on your other senses to solve this one . no peeking !\" alex laughs nervously but agrees , trusting her friend completely . she ties the blindfold over her eyes , allowing the world around her to fade into darkness . a sense of vulnerability washes over her , but she knows she ’ s in safe hands . the challenge is designed to test their teamwork and senses , not to be dangerous or uncomfortable . [ 2 : 0 0 - 4 : 0 0 ] the first clue the room is silent except for the soft sound of footsteps as her friend moves to the side . alex is told to listen closely to the sounds around her . as her friend walks across the room , they accidentally knock over an old book , its pages fluttering open . alex hears the soft rustle and instinctively moves toward the sound . her friend speaks gently . \" the first clue is hidden in something that sounds like this .\" a distant noise — a door creaking open — echoes throughout the house . alex , feeling the tension rise , steps carefully toward the sound . using only her hearing , she navigates around the room , her hands outstretched . she runs her fingers over an old desk , feeling the cool wood , and spots the edge of an old journal . it seems right — there ’ s a hidden compartment she discovers by touch . she opens it , and there ’ s the next clue : a folded map with mysterious symbols . \" you did it !\" her friend says warmly , clearly impressed . [ 4 : 0 0 - 6 : 0 0 ] the scent challenge feeling a little more confident now , alex is ready for the next challenge . this time , her friend holds up three different objects : a bottle of lavender oil , a bundle of fresh herbs , and an old leather - bound book . the challenge is to identify each scent . \" use your nose to tell me which one is connected to the clue ,\" her friend instructs . alex breathes deeply , inhaling each fragrance . the lavender oil is calming , the herbs earthy and rich . when she noses the leather book , there \\'s something familiar about the scent . she takes a few moments , allowing the aroma to guide her . after a beat , alex smiles . \" it ’ s the book ,\" she says , feeling a sense of triumph . her friend hands her a small piece of parchment hidden within the pages of the book . \" one more to go ,\" they tease . [ 6 : 0 0 - 8 : 0 0 ] the touch challenge the third challenge is all about touch . alex ’ s friend has placed several objects on the table : a soft feather , a rough stone , and a smooth metal object . \" identify each object with just your hands ,\" they say , as alex feels her way around the table . she first touches the feather , its lightness and softness obvious . next , she runs her fingers over the rough stone , its jagged edges biting into her skin . finally , the smooth metal feels cold and solid . alex answers confidently , identifying the objects correctly . but this time , there ’ s a twist . her friend , seeing how well she ’ s done , adds , \" you ’ re doing great . but there ’ s one final challenge . you need to use all three senses to unlock the last piece of the puzzle .\" [ 8 : 0 0 - 1 0 : 0 0 ] the final puzzle alex ’ s heart races as her friend hands her the final clue , a small ornate key . the puzzle now lies in one of the locked drawers in the mansion . with the blindfold still on , alex moves carefully toward the drawer . she listens to the creak of the old wood as she fits the key into the lock , guided by the sounds . the key turns smoothly in the lock , and the drawer slides open with a satisfying sound . inside is a glowing gemstone , the last clue that will reveal the treasure ’ s location . her friend claps in delight , \" you did it , alex ! you solved the whole puzzle !\" alex smiles widely , her sense of accomplishment mixing with the thrill of the mystery solved . she removes the blindfold , the world slowly returning to focus . her friend gives her a playful nudge . \" that was amazing . we make a great team .\" end of scene']\n"
     ]
    },
    {
     "name": "stdout",
     "output_type": "stream",
     "text": [
      "Processing chunk 1 / 86\n"
     ]
    },
    {
     "data": {
      "application/vnd.jupyter.widget-view+json": {
       "model_id": "6489ee7516c64fd088e90bafc3feb5c7",
       "version_major": 2,
       "version_minor": 0
      },
      "text/plain": [
       "  0%|          | 0/2 [00:00<?, ?it/s]"
      ]
     },
     "metadata": {},
     "output_type": "display_data"
    },
    {
     "data": {
      "application/vnd.jupyter.widget-view+json": {
       "model_id": "95ce70f6888c4439bacf622c78586204",
       "version_major": 2,
       "version_minor": 0
      },
      "text/plain": [
       "  0%|          | 0/3 [00:00<?, ?it/s]"
      ]
     },
     "metadata": {},
     "output_type": "display_data"
    },
    {
     "name": "stderr",
     "output_type": "stream",
     "text": [
      "e:\\Softwares\\Programming Languages\\Python\\Python312\\Lib\\site-packages\\torch\\functional.py:534: UserWarning: torch.meshgrid: in an upcoming release, it will be required to pass the indexing argument. (Triggered internally at C:\\actions-runner\\_work\\pytorch\\pytorch\\builder\\windows\\pytorch\\aten\\src\\ATen\\native\\TensorShape.cpp:3596.)\n",
      "  return _VF.meshgrid(tensors, **kwargs)  # type: ignore[attr-defined]\n",
      "e:\\Softwares\\Programming Languages\\Python\\Python312\\Lib\\site-packages\\torch\\nn\\functional.py:4902: UserWarning: Default grid_sample and affine_grid behavior has changed to align_corners=False since 1.3.0. Please specify align_corners=True if the old behavior is desired. See the documentation of grid_sample for details.\n",
      "  warnings.warn(\n"
     ]
    },
    {
     "data": {
      "application/vnd.jupyter.widget-view+json": {
       "model_id": "e70d6431114d4981973a79f475b81e85",
       "version_major": 2,
       "version_minor": 0
      },
      "text/plain": [
       "  0%|          | 0/48 [00:00<?, ?it/s]"
      ]
     },
     "metadata": {},
     "output_type": "display_data"
    },
    {
     "name": "stderr",
     "output_type": "stream",
     "text": [
      "The following part of your input was truncated because CLIP can only handle sequences up to 77 tokens: ['’ s character , alex , and her close friend , a fellow adventurer , stand in the grand hallway of a mansion rumored to have hidden treasures and secrets from centuries ago . the pair has been following a series of cryptic clues that have led them here . they ’ ve worked well together so far , solving puzzles , but now they face the ultimate challenge — finding the final clue hidden somewhere in the mansion . alex is feeling a rush of excitement , adrenaline building as they get closer to the heart of the mystery . the final clue , as per the map they discovered earlier , is located somewhere in the mansion . the twist : the only way to unlock it is through a challenge of the senses . [ 1 : 0 0 - 2 : 0 0 ] the blindfold challenge her friend , sensing alex ’ s competitive spirit , grins mischievously . \" are you ready for the final challenge ?\" they ask . alex , intrigued but a little hesitant , agrees . \" what ’ s the challenge ?\" her friend pulls out a soft , velvet blindfold . \" you ’ ll need to rely on your other senses to solve this one . no peeking !\" alex laughs nervously but agrees , trusting her friend completely . she ties the blindfold over her eyes , allowing the world around her to fade into darkness . a sense of vulnerability washes over her , but she knows she ’ s in safe hands . the challenge is designed to test their teamwork and senses , not to be dangerous or uncomfortable . [ 2 : 0 0 - 4 : 0 0 ] the first clue the room is silent except for the soft sound of footsteps as her friend moves to the side . alex is told to listen closely to the sounds around her . as her friend walks across the room , they accidentally knock over an old book , its pages fluttering open . alex hears the soft rustle and instinctively moves toward the sound . her friend speaks gently . \" the first clue is hidden in something that sounds like this .\" a distant noise — a door creaking open — echoes throughout the house . alex , feeling the tension rise , steps carefully toward the sound . using only her hearing , she navigates around the room , her hands outstretched . she runs her fingers over an old desk , feeling the cool wood , and spots the edge of an old journal . it seems right — there ’ s a hidden compartment she discovers by touch . she opens it , and there ’ s the next clue : a folded map with mysterious symbols . \" you did it !\" her friend says warmly , clearly impressed . [ 4 : 0 0 - 6 : 0 0 ] the scent challenge feeling a little more confident now , alex is ready for the next challenge . this time , her friend holds up three different objects : a bottle of lavender oil , a bundle of fresh herbs , and an old leather - bound book . the challenge is to identify each scent . \" use your nose to tell me which one is connected to the clue ,\" her friend instructs . alex breathes deeply , inhaling each fragrance . the lavender oil is calming , the herbs earthy and rich . when she noses the leather book , there \\'s something familiar about the scent . she takes a few moments , allowing the aroma to guide her . after a beat , alex smiles . \" it ’ s the book ,\" she says , feeling a sense of triumph . her friend hands her a small piece of parchment hidden within the pages of the book . \" one more to go ,\" they tease . [ 6 : 0 0 - 8 : 0 0 ] the touch challenge the third challenge is all about touch . alex ’ s friend has placed several objects on the table : a soft feather , a rough stone , and a smooth metal object . \" identify each object with just your hands ,\" they say , as alex feels her way around the table . she first touches the feather , its lightness and softness obvious . next , she runs her fingers over the rough stone , its jagged edges biting into her skin . finally , the smooth metal feels cold and solid . alex answers confidently , identifying the objects correctly . but this time , there ’ s a twist . her friend , seeing how well she ’ s done , adds , \" you ’ re doing great . but there ’ s one final challenge . you need to use all three senses to unlock the last piece of the puzzle .\" [ 8 : 0 0 - 1 0 : 0 0 ] the final puzzle alex ’ s heart races as her friend hands her the final clue , a small ornate key . the puzzle now lies in one of the locked drawers in the mansion . with the blindfold still on , alex moves carefully toward the drawer . she listens to the creak of the old wood as she fits the key into the lock , guided by the sounds . the key turns smoothly in the lock , and the drawer slides open with a satisfying sound . inside is a glowing gemstone , the last clue that will reveal the treasure ’ s location . her friend claps in delight , \" you did it , alex ! you solved the whole puzzle !\" alex smiles widely , her sense of accomplishment mixing with the thrill of the mystery solved . she removes the blindfold , the world slowly returning to focus . her friend gives her a playful nudge . \" that was amazing . we make a great team .\" end of scene']\n"
     ]
    },
    {
     "name": "stdout",
     "output_type": "stream",
     "text": [
      "Processing chunk 2 / 86\n"
     ]
    },
    {
     "data": {
      "application/vnd.jupyter.widget-view+json": {
       "model_id": "177ac91c8ef1473fa2892ad76b1ce18e",
       "version_major": 2,
       "version_minor": 0
      },
      "text/plain": [
       "  0%|          | 0/2 [00:00<?, ?it/s]"
      ]
     },
     "metadata": {},
     "output_type": "display_data"
    },
    {
     "data": {
      "application/vnd.jupyter.widget-view+json": {
       "model_id": "1d52c5a9a13d4cb188e1d3501339a293",
       "version_major": 2,
       "version_minor": 0
      },
      "text/plain": [
       "  0%|          | 0/3 [00:00<?, ?it/s]"
      ]
     },
     "metadata": {},
     "output_type": "display_data"
    },
    {
     "data": {
      "application/vnd.jupyter.widget-view+json": {
       "model_id": "933f6b5ec60e4b0fba0860b12a6407c0",
       "version_major": 2,
       "version_minor": 0
      },
      "text/plain": [
       "  0%|          | 0/48 [00:00<?, ?it/s]"
      ]
     },
     "metadata": {},
     "output_type": "display_data"
    },
    {
     "name": "stderr",
     "output_type": "stream",
     "text": [
      "The following part of your input was truncated because CLIP can only handle sequences up to 77 tokens: ['’ s character , alex , and her close friend , a fellow adventurer , stand in the grand hallway of a mansion rumored to have hidden treasures and secrets from centuries ago . the pair has been following a series of cryptic clues that have led them here . they ’ ve worked well together so far , solving puzzles , but now they face the ultimate challenge — finding the final clue hidden somewhere in the mansion . alex is feeling a rush of excitement , adrenaline building as they get closer to the heart of the mystery . the final clue , as per the map they discovered earlier , is located somewhere in the mansion . the twist : the only way to unlock it is through a challenge of the senses . [ 1 : 0 0 - 2 : 0 0 ] the blindfold challenge her friend , sensing alex ’ s competitive spirit , grins mischievously . \" are you ready for the final challenge ?\" they ask . alex , intrigued but a little hesitant , agrees . \" what ’ s the challenge ?\" her friend pulls out a soft , velvet blindfold . \" you ’ ll need to rely on your other senses to solve this one . no peeking !\" alex laughs nervously but agrees , trusting her friend completely . she ties the blindfold over her eyes , allowing the world around her to fade into darkness . a sense of vulnerability washes over her , but she knows she ’ s in safe hands . the challenge is designed to test their teamwork and senses , not to be dangerous or uncomfortable . [ 2 : 0 0 - 4 : 0 0 ] the first clue the room is silent except for the soft sound of footsteps as her friend moves to the side . alex is told to listen closely to the sounds around her . as her friend walks across the room , they accidentally knock over an old book , its pages fluttering open . alex hears the soft rustle and instinctively moves toward the sound . her friend speaks gently . \" the first clue is hidden in something that sounds like this .\" a distant noise — a door creaking open — echoes throughout the house . alex , feeling the tension rise , steps carefully toward the sound . using only her hearing , she navigates around the room , her hands outstretched . she runs her fingers over an old desk , feeling the cool wood , and spots the edge of an old journal . it seems right — there ’ s a hidden compartment she discovers by touch . she opens it , and there ’ s the next clue : a folded map with mysterious symbols . \" you did it !\" her friend says warmly , clearly impressed . [ 4 : 0 0 - 6 : 0 0 ] the scent challenge feeling a little more confident now , alex is ready for the next challenge . this time , her friend holds up three different objects : a bottle of lavender oil , a bundle of fresh herbs , and an old leather - bound book . the challenge is to identify each scent . \" use your nose to tell me which one is connected to the clue ,\" her friend instructs . alex breathes deeply , inhaling each fragrance . the lavender oil is calming , the herbs earthy and rich . when she noses the leather book , there \\'s something familiar about the scent . she takes a few moments , allowing the aroma to guide her . after a beat , alex smiles . \" it ’ s the book ,\" she says , feeling a sense of triumph . her friend hands her a small piece of parchment hidden within the pages of the book . \" one more to go ,\" they tease . [ 6 : 0 0 - 8 : 0 0 ] the touch challenge the third challenge is all about touch . alex ’ s friend has placed several objects on the table : a soft feather , a rough stone , and a smooth metal object . \" identify each object with just your hands ,\" they say , as alex feels her way around the table . she first touches the feather , its lightness and softness obvious . next , she runs her fingers over the rough stone , its jagged edges biting into her skin . finally , the smooth metal feels cold and solid . alex answers confidently , identifying the objects correctly . but this time , there ’ s a twist . her friend , seeing how well she ’ s done , adds , \" you ’ re doing great . but there ’ s one final challenge . you need to use all three senses to unlock the last piece of the puzzle .\" [ 8 : 0 0 - 1 0 : 0 0 ] the final puzzle alex ’ s heart races as her friend hands her the final clue , a small ornate key . the puzzle now lies in one of the locked drawers in the mansion . with the blindfold still on , alex moves carefully toward the drawer . she listens to the creak of the old wood as she fits the key into the lock , guided by the sounds . the key turns smoothly in the lock , and the drawer slides open with a satisfying sound . inside is a glowing gemstone , the last clue that will reveal the treasure ’ s location . her friend claps in delight , \" you did it , alex ! you solved the whole puzzle !\" alex smiles widely , her sense of accomplishment mixing with the thrill of the mystery solved . she removes the blindfold , the world slowly returning to focus . her friend gives her a playful nudge . \" that was amazing . we make a great team .\" end of scene']\n"
     ]
    },
    {
     "name": "stdout",
     "output_type": "stream",
     "text": [
      "Processing chunk 3 / 86\n"
     ]
    },
    {
     "data": {
      "application/vnd.jupyter.widget-view+json": {
       "model_id": "6ca6295c3fcb4d8590bef34d087be9c7",
       "version_major": 2,
       "version_minor": 0
      },
      "text/plain": [
       "  0%|          | 0/2 [00:00<?, ?it/s]"
      ]
     },
     "metadata": {},
     "output_type": "display_data"
    },
    {
     "data": {
      "application/vnd.jupyter.widget-view+json": {
       "model_id": "036d7ea5e5c544ffa479edc4ebd70970",
       "version_major": 2,
       "version_minor": 0
      },
      "text/plain": [
       "  0%|          | 0/3 [00:00<?, ?it/s]"
      ]
     },
     "metadata": {},
     "output_type": "display_data"
    },
    {
     "data": {
      "application/vnd.jupyter.widget-view+json": {
       "model_id": "a7b07caa6b68406288e83d468b3cb1ef",
       "version_major": 2,
       "version_minor": 0
      },
      "text/plain": [
       "  0%|          | 0/48 [00:00<?, ?it/s]"
      ]
     },
     "metadata": {},
     "output_type": "display_data"
    },
    {
     "name": "stderr",
     "output_type": "stream",
     "text": [
      "The following part of your input was truncated because CLIP can only handle sequences up to 77 tokens: ['’ s character , alex , and her close friend , a fellow adventurer , stand in the grand hallway of a mansion rumored to have hidden treasures and secrets from centuries ago . the pair has been following a series of cryptic clues that have led them here . they ’ ve worked well together so far , solving puzzles , but now they face the ultimate challenge — finding the final clue hidden somewhere in the mansion . alex is feeling a rush of excitement , adrenaline building as they get closer to the heart of the mystery . the final clue , as per the map they discovered earlier , is located somewhere in the mansion . the twist : the only way to unlock it is through a challenge of the senses . [ 1 : 0 0 - 2 : 0 0 ] the blindfold challenge her friend , sensing alex ’ s competitive spirit , grins mischievously . \" are you ready for the final challenge ?\" they ask . alex , intrigued but a little hesitant , agrees . \" what ’ s the challenge ?\" her friend pulls out a soft , velvet blindfold . \" you ’ ll need to rely on your other senses to solve this one . no peeking !\" alex laughs nervously but agrees , trusting her friend completely . she ties the blindfold over her eyes , allowing the world around her to fade into darkness . a sense of vulnerability washes over her , but she knows she ’ s in safe hands . the challenge is designed to test their teamwork and senses , not to be dangerous or uncomfortable . [ 2 : 0 0 - 4 : 0 0 ] the first clue the room is silent except for the soft sound of footsteps as her friend moves to the side . alex is told to listen closely to the sounds around her . as her friend walks across the room , they accidentally knock over an old book , its pages fluttering open . alex hears the soft rustle and instinctively moves toward the sound . her friend speaks gently . \" the first clue is hidden in something that sounds like this .\" a distant noise — a door creaking open — echoes throughout the house . alex , feeling the tension rise , steps carefully toward the sound . using only her hearing , she navigates around the room , her hands outstretched . she runs her fingers over an old desk , feeling the cool wood , and spots the edge of an old journal . it seems right — there ’ s a hidden compartment she discovers by touch . she opens it , and there ’ s the next clue : a folded map with mysterious symbols . \" you did it !\" her friend says warmly , clearly impressed . [ 4 : 0 0 - 6 : 0 0 ] the scent challenge feeling a little more confident now , alex is ready for the next challenge . this time , her friend holds up three different objects : a bottle of lavender oil , a bundle of fresh herbs , and an old leather - bound book . the challenge is to identify each scent . \" use your nose to tell me which one is connected to the clue ,\" her friend instructs . alex breathes deeply , inhaling each fragrance . the lavender oil is calming , the herbs earthy and rich . when she noses the leather book , there \\'s something familiar about the scent . she takes a few moments , allowing the aroma to guide her . after a beat , alex smiles . \" it ’ s the book ,\" she says , feeling a sense of triumph . her friend hands her a small piece of parchment hidden within the pages of the book . \" one more to go ,\" they tease . [ 6 : 0 0 - 8 : 0 0 ] the touch challenge the third challenge is all about touch . alex ’ s friend has placed several objects on the table : a soft feather , a rough stone , and a smooth metal object . \" identify each object with just your hands ,\" they say , as alex feels her way around the table . she first touches the feather , its lightness and softness obvious . next , she runs her fingers over the rough stone , its jagged edges biting into her skin . finally , the smooth metal feels cold and solid . alex answers confidently , identifying the objects correctly . but this time , there ’ s a twist . her friend , seeing how well she ’ s done , adds , \" you ’ re doing great . but there ’ s one final challenge . you need to use all three senses to unlock the last piece of the puzzle .\" [ 8 : 0 0 - 1 0 : 0 0 ] the final puzzle alex ’ s heart races as her friend hands her the final clue , a small ornate key . the puzzle now lies in one of the locked drawers in the mansion . with the blindfold still on , alex moves carefully toward the drawer . she listens to the creak of the old wood as she fits the key into the lock , guided by the sounds . the key turns smoothly in the lock , and the drawer slides open with a satisfying sound . inside is a glowing gemstone , the last clue that will reveal the treasure ’ s location . her friend claps in delight , \" you did it , alex ! you solved the whole puzzle !\" alex smiles widely , her sense of accomplishment mixing with the thrill of the mystery solved . she removes the blindfold , the world slowly returning to focus . her friend gives her a playful nudge . \" that was amazing . we make a great team .\" end of scene']\n"
     ]
    },
    {
     "name": "stdout",
     "output_type": "stream",
     "text": [
      "Processing chunk 4 / 86\n"
     ]
    },
    {
     "data": {
      "application/vnd.jupyter.widget-view+json": {
       "model_id": "60364dd65f7446b49028628b9b5146ee",
       "version_major": 2,
       "version_minor": 0
      },
      "text/plain": [
       "  0%|          | 0/2 [00:00<?, ?it/s]"
      ]
     },
     "metadata": {},
     "output_type": "display_data"
    },
    {
     "data": {
      "application/vnd.jupyter.widget-view+json": {
       "model_id": "710177a9eeb54bcb9225fcd36d9493be",
       "version_major": 2,
       "version_minor": 0
      },
      "text/plain": [
       "  0%|          | 0/3 [00:00<?, ?it/s]"
      ]
     },
     "metadata": {},
     "output_type": "display_data"
    },
    {
     "data": {
      "application/vnd.jupyter.widget-view+json": {
       "model_id": "698bcc60ed2b423184119b54e59cabfa",
       "version_major": 2,
       "version_minor": 0
      },
      "text/plain": [
       "  0%|          | 0/48 [00:00<?, ?it/s]"
      ]
     },
     "metadata": {},
     "output_type": "display_data"
    },
    {
     "name": "stderr",
     "output_type": "stream",
     "text": [
      "The following part of your input was truncated because CLIP can only handle sequences up to 77 tokens: ['’ s character , alex , and her close friend , a fellow adventurer , stand in the grand hallway of a mansion rumored to have hidden treasures and secrets from centuries ago . the pair has been following a series of cryptic clues that have led them here . they ’ ve worked well together so far , solving puzzles , but now they face the ultimate challenge — finding the final clue hidden somewhere in the mansion . alex is feeling a rush of excitement , adrenaline building as they get closer to the heart of the mystery . the final clue , as per the map they discovered earlier , is located somewhere in the mansion . the twist : the only way to unlock it is through a challenge of the senses . [ 1 : 0 0 - 2 : 0 0 ] the blindfold challenge her friend , sensing alex ’ s competitive spirit , grins mischievously . \" are you ready for the final challenge ?\" they ask . alex , intrigued but a little hesitant , agrees . \" what ’ s the challenge ?\" her friend pulls out a soft , velvet blindfold . \" you ’ ll need to rely on your other senses to solve this one . no peeking !\" alex laughs nervously but agrees , trusting her friend completely . she ties the blindfold over her eyes , allowing the world around her to fade into darkness . a sense of vulnerability washes over her , but she knows she ’ s in safe hands . the challenge is designed to test their teamwork and senses , not to be dangerous or uncomfortable . [ 2 : 0 0 - 4 : 0 0 ] the first clue the room is silent except for the soft sound of footsteps as her friend moves to the side . alex is told to listen closely to the sounds around her . as her friend walks across the room , they accidentally knock over an old book , its pages fluttering open . alex hears the soft rustle and instinctively moves toward the sound . her friend speaks gently . \" the first clue is hidden in something that sounds like this .\" a distant noise — a door creaking open — echoes throughout the house . alex , feeling the tension rise , steps carefully toward the sound . using only her hearing , she navigates around the room , her hands outstretched . she runs her fingers over an old desk , feeling the cool wood , and spots the edge of an old journal . it seems right — there ’ s a hidden compartment she discovers by touch . she opens it , and there ’ s the next clue : a folded map with mysterious symbols . \" you did it !\" her friend says warmly , clearly impressed . [ 4 : 0 0 - 6 : 0 0 ] the scent challenge feeling a little more confident now , alex is ready for the next challenge . this time , her friend holds up three different objects : a bottle of lavender oil , a bundle of fresh herbs , and an old leather - bound book . the challenge is to identify each scent . \" use your nose to tell me which one is connected to the clue ,\" her friend instructs . alex breathes deeply , inhaling each fragrance . the lavender oil is calming , the herbs earthy and rich . when she noses the leather book , there \\'s something familiar about the scent . she takes a few moments , allowing the aroma to guide her . after a beat , alex smiles . \" it ’ s the book ,\" she says , feeling a sense of triumph . her friend hands her a small piece of parchment hidden within the pages of the book . \" one more to go ,\" they tease . [ 6 : 0 0 - 8 : 0 0 ] the touch challenge the third challenge is all about touch . alex ’ s friend has placed several objects on the table : a soft feather , a rough stone , and a smooth metal object . \" identify each object with just your hands ,\" they say , as alex feels her way around the table . she first touches the feather , its lightness and softness obvious . next , she runs her fingers over the rough stone , its jagged edges biting into her skin . finally , the smooth metal feels cold and solid . alex answers confidently , identifying the objects correctly . but this time , there ’ s a twist . her friend , seeing how well she ’ s done , adds , \" you ’ re doing great . but there ’ s one final challenge . you need to use all three senses to unlock the last piece of the puzzle .\" [ 8 : 0 0 - 1 0 : 0 0 ] the final puzzle alex ’ s heart races as her friend hands her the final clue , a small ornate key . the puzzle now lies in one of the locked drawers in the mansion . with the blindfold still on , alex moves carefully toward the drawer . she listens to the creak of the old wood as she fits the key into the lock , guided by the sounds . the key turns smoothly in the lock , and the drawer slides open with a satisfying sound . inside is a glowing gemstone , the last clue that will reveal the treasure ’ s location . her friend claps in delight , \" you did it , alex ! you solved the whole puzzle !\" alex smiles widely , her sense of accomplishment mixing with the thrill of the mystery solved . she removes the blindfold , the world slowly returning to focus . her friend gives her a playful nudge . \" that was amazing . we make a great team .\" end of scene']\n"
     ]
    },
    {
     "name": "stdout",
     "output_type": "stream",
     "text": [
      "Processing chunk 5 / 86\n"
     ]
    },
    {
     "data": {
      "application/vnd.jupyter.widget-view+json": {
       "model_id": "50e49c0553834add9979600d10f1fb10",
       "version_major": 2,
       "version_minor": 0
      },
      "text/plain": [
       "  0%|          | 0/2 [00:00<?, ?it/s]"
      ]
     },
     "metadata": {},
     "output_type": "display_data"
    },
    {
     "data": {
      "application/vnd.jupyter.widget-view+json": {
       "model_id": "cb03898501eb4fcb9a21779bf1c32174",
       "version_major": 2,
       "version_minor": 0
      },
      "text/plain": [
       "  0%|          | 0/3 [00:00<?, ?it/s]"
      ]
     },
     "metadata": {},
     "output_type": "display_data"
    },
    {
     "data": {
      "application/vnd.jupyter.widget-view+json": {
       "model_id": "58b8fb64a6074f1bb0381fc5dcc572cd",
       "version_major": 2,
       "version_minor": 0
      },
      "text/plain": [
       "  0%|          | 0/48 [00:00<?, ?it/s]"
      ]
     },
     "metadata": {},
     "output_type": "display_data"
    },
    {
     "name": "stderr",
     "output_type": "stream",
     "text": [
      "The following part of your input was truncated because CLIP can only handle sequences up to 77 tokens: ['’ s character , alex , and her close friend , a fellow adventurer , stand in the grand hallway of a mansion rumored to have hidden treasures and secrets from centuries ago . the pair has been following a series of cryptic clues that have led them here . they ’ ve worked well together so far , solving puzzles , but now they face the ultimate challenge — finding the final clue hidden somewhere in the mansion . alex is feeling a rush of excitement , adrenaline building as they get closer to the heart of the mystery . the final clue , as per the map they discovered earlier , is located somewhere in the mansion . the twist : the only way to unlock it is through a challenge of the senses . [ 1 : 0 0 - 2 : 0 0 ] the blindfold challenge her friend , sensing alex ’ s competitive spirit , grins mischievously . \" are you ready for the final challenge ?\" they ask . alex , intrigued but a little hesitant , agrees . \" what ’ s the challenge ?\" her friend pulls out a soft , velvet blindfold . \" you ’ ll need to rely on your other senses to solve this one . no peeking !\" alex laughs nervously but agrees , trusting her friend completely . she ties the blindfold over her eyes , allowing the world around her to fade into darkness . a sense of vulnerability washes over her , but she knows she ’ s in safe hands . the challenge is designed to test their teamwork and senses , not to be dangerous or uncomfortable . [ 2 : 0 0 - 4 : 0 0 ] the first clue the room is silent except for the soft sound of footsteps as her friend moves to the side . alex is told to listen closely to the sounds around her . as her friend walks across the room , they accidentally knock over an old book , its pages fluttering open . alex hears the soft rustle and instinctively moves toward the sound . her friend speaks gently . \" the first clue is hidden in something that sounds like this .\" a distant noise — a door creaking open — echoes throughout the house . alex , feeling the tension rise , steps carefully toward the sound . using only her hearing , she navigates around the room , her hands outstretched . she runs her fingers over an old desk , feeling the cool wood , and spots the edge of an old journal . it seems right — there ’ s a hidden compartment she discovers by touch . she opens it , and there ’ s the next clue : a folded map with mysterious symbols . \" you did it !\" her friend says warmly , clearly impressed . [ 4 : 0 0 - 6 : 0 0 ] the scent challenge feeling a little more confident now , alex is ready for the next challenge . this time , her friend holds up three different objects : a bottle of lavender oil , a bundle of fresh herbs , and an old leather - bound book . the challenge is to identify each scent . \" use your nose to tell me which one is connected to the clue ,\" her friend instructs . alex breathes deeply , inhaling each fragrance . the lavender oil is calming , the herbs earthy and rich . when she noses the leather book , there \\'s something familiar about the scent . she takes a few moments , allowing the aroma to guide her . after a beat , alex smiles . \" it ’ s the book ,\" she says , feeling a sense of triumph . her friend hands her a small piece of parchment hidden within the pages of the book . \" one more to go ,\" they tease . [ 6 : 0 0 - 8 : 0 0 ] the touch challenge the third challenge is all about touch . alex ’ s friend has placed several objects on the table : a soft feather , a rough stone , and a smooth metal object . \" identify each object with just your hands ,\" they say , as alex feels her way around the table . she first touches the feather , its lightness and softness obvious . next , she runs her fingers over the rough stone , its jagged edges biting into her skin . finally , the smooth metal feels cold and solid . alex answers confidently , identifying the objects correctly . but this time , there ’ s a twist . her friend , seeing how well she ’ s done , adds , \" you ’ re doing great . but there ’ s one final challenge . you need to use all three senses to unlock the last piece of the puzzle .\" [ 8 : 0 0 - 1 0 : 0 0 ] the final puzzle alex ’ s heart races as her friend hands her the final clue , a small ornate key . the puzzle now lies in one of the locked drawers in the mansion . with the blindfold still on , alex moves carefully toward the drawer . she listens to the creak of the old wood as she fits the key into the lock , guided by the sounds . the key turns smoothly in the lock , and the drawer slides open with a satisfying sound . inside is a glowing gemstone , the last clue that will reveal the treasure ’ s location . her friend claps in delight , \" you did it , alex ! you solved the whole puzzle !\" alex smiles widely , her sense of accomplishment mixing with the thrill of the mystery solved . she removes the blindfold , the world slowly returning to focus . her friend gives her a playful nudge . \" that was amazing . we make a great team .\" end of scene']\n"
     ]
    },
    {
     "name": "stdout",
     "output_type": "stream",
     "text": [
      "Processing chunk 6 / 86\n"
     ]
    },
    {
     "data": {
      "application/vnd.jupyter.widget-view+json": {
       "model_id": "20a7b8551fbc41f08bce897d61d1d3c3",
       "version_major": 2,
       "version_minor": 0
      },
      "text/plain": [
       "  0%|          | 0/2 [00:00<?, ?it/s]"
      ]
     },
     "metadata": {},
     "output_type": "display_data"
    },
    {
     "data": {
      "application/vnd.jupyter.widget-view+json": {
       "model_id": "eec11965fe624a8e860d094073bead39",
       "version_major": 2,
       "version_minor": 0
      },
      "text/plain": [
       "  0%|          | 0/3 [00:00<?, ?it/s]"
      ]
     },
     "metadata": {},
     "output_type": "display_data"
    },
    {
     "data": {
      "application/vnd.jupyter.widget-view+json": {
       "model_id": "712a27a588784da9acbce0ebdb11daba",
       "version_major": 2,
       "version_minor": 0
      },
      "text/plain": [
       "  0%|          | 0/48 [00:00<?, ?it/s]"
      ]
     },
     "metadata": {},
     "output_type": "display_data"
    },
    {
     "name": "stderr",
     "output_type": "stream",
     "text": [
      "The following part of your input was truncated because CLIP can only handle sequences up to 77 tokens: ['’ s character , alex , and her close friend , a fellow adventurer , stand in the grand hallway of a mansion rumored to have hidden treasures and secrets from centuries ago . the pair has been following a series of cryptic clues that have led them here . they ’ ve worked well together so far , solving puzzles , but now they face the ultimate challenge — finding the final clue hidden somewhere in the mansion . alex is feeling a rush of excitement , adrenaline building as they get closer to the heart of the mystery . the final clue , as per the map they discovered earlier , is located somewhere in the mansion . the twist : the only way to unlock it is through a challenge of the senses . [ 1 : 0 0 - 2 : 0 0 ] the blindfold challenge her friend , sensing alex ’ s competitive spirit , grins mischievously . \" are you ready for the final challenge ?\" they ask . alex , intrigued but a little hesitant , agrees . \" what ’ s the challenge ?\" her friend pulls out a soft , velvet blindfold . \" you ’ ll need to rely on your other senses to solve this one . no peeking !\" alex laughs nervously but agrees , trusting her friend completely . she ties the blindfold over her eyes , allowing the world around her to fade into darkness . a sense of vulnerability washes over her , but she knows she ’ s in safe hands . the challenge is designed to test their teamwork and senses , not to be dangerous or uncomfortable . [ 2 : 0 0 - 4 : 0 0 ] the first clue the room is silent except for the soft sound of footsteps as her friend moves to the side . alex is told to listen closely to the sounds around her . as her friend walks across the room , they accidentally knock over an old book , its pages fluttering open . alex hears the soft rustle and instinctively moves toward the sound . her friend speaks gently . \" the first clue is hidden in something that sounds like this .\" a distant noise — a door creaking open — echoes throughout the house . alex , feeling the tension rise , steps carefully toward the sound . using only her hearing , she navigates around the room , her hands outstretched . she runs her fingers over an old desk , feeling the cool wood , and spots the edge of an old journal . it seems right — there ’ s a hidden compartment she discovers by touch . she opens it , and there ’ s the next clue : a folded map with mysterious symbols . \" you did it !\" her friend says warmly , clearly impressed . [ 4 : 0 0 - 6 : 0 0 ] the scent challenge feeling a little more confident now , alex is ready for the next challenge . this time , her friend holds up three different objects : a bottle of lavender oil , a bundle of fresh herbs , and an old leather - bound book . the challenge is to identify each scent . \" use your nose to tell me which one is connected to the clue ,\" her friend instructs . alex breathes deeply , inhaling each fragrance . the lavender oil is calming , the herbs earthy and rich . when she noses the leather book , there \\'s something familiar about the scent . she takes a few moments , allowing the aroma to guide her . after a beat , alex smiles . \" it ’ s the book ,\" she says , feeling a sense of triumph . her friend hands her a small piece of parchment hidden within the pages of the book . \" one more to go ,\" they tease . [ 6 : 0 0 - 8 : 0 0 ] the touch challenge the third challenge is all about touch . alex ’ s friend has placed several objects on the table : a soft feather , a rough stone , and a smooth metal object . \" identify each object with just your hands ,\" they say , as alex feels her way around the table . she first touches the feather , its lightness and softness obvious . next , she runs her fingers over the rough stone , its jagged edges biting into her skin . finally , the smooth metal feels cold and solid . alex answers confidently , identifying the objects correctly . but this time , there ’ s a twist . her friend , seeing how well she ’ s done , adds , \" you ’ re doing great . but there ’ s one final challenge . you need to use all three senses to unlock the last piece of the puzzle .\" [ 8 : 0 0 - 1 0 : 0 0 ] the final puzzle alex ’ s heart races as her friend hands her the final clue , a small ornate key . the puzzle now lies in one of the locked drawers in the mansion . with the blindfold still on , alex moves carefully toward the drawer . she listens to the creak of the old wood as she fits the key into the lock , guided by the sounds . the key turns smoothly in the lock , and the drawer slides open with a satisfying sound . inside is a glowing gemstone , the last clue that will reveal the treasure ’ s location . her friend claps in delight , \" you did it , alex ! you solved the whole puzzle !\" alex smiles widely , her sense of accomplishment mixing with the thrill of the mystery solved . she removes the blindfold , the world slowly returning to focus . her friend gives her a playful nudge . \" that was amazing . we make a great team .\" end of scene']\n"
     ]
    },
    {
     "name": "stdout",
     "output_type": "stream",
     "text": [
      "Processing chunk 7 / 86\n"
     ]
    },
    {
     "data": {
      "application/vnd.jupyter.widget-view+json": {
       "model_id": "0d2b1ea549a9498da1f0427d1c6972ac",
       "version_major": 2,
       "version_minor": 0
      },
      "text/plain": [
       "  0%|          | 0/2 [00:00<?, ?it/s]"
      ]
     },
     "metadata": {},
     "output_type": "display_data"
    },
    {
     "data": {
      "application/vnd.jupyter.widget-view+json": {
       "model_id": "711207b9701f4699ba8d89f2a7a82697",
       "version_major": 2,
       "version_minor": 0
      },
      "text/plain": [
       "  0%|          | 0/3 [00:00<?, ?it/s]"
      ]
     },
     "metadata": {},
     "output_type": "display_data"
    },
    {
     "data": {
      "application/vnd.jupyter.widget-view+json": {
       "model_id": "38ea582dfba14c758454f3301eb01196",
       "version_major": 2,
       "version_minor": 0
      },
      "text/plain": [
       "  0%|          | 0/48 [00:00<?, ?it/s]"
      ]
     },
     "metadata": {},
     "output_type": "display_data"
    }
   ],
   "source": [
    "# Generate the video chunk-by-chunk\n",
    "result = []\n",
    "chunk_ids = np.arange(0, video_length, chunk_size - 1)\n",
    "generator = torch.Generator(device=\"cuda\")\n",
    "for i in range(len(chunk_ids)):\n",
    "    print(f\"Processing chunk {i + 1} / {len(chunk_ids)}\")\n",
    "    ch_start = chunk_ids[i]\n",
    "    ch_end = video_length if i == len(chunk_ids) - 1 else chunk_ids[i + 1]\n",
    "    # Attach the first frame for Cross Frame Attention\n",
    "    frame_ids = [0] + list(range(ch_start, ch_end))\n",
    "    # Fix the seed for the temporal consistency\n",
    "    generator.manual_seed(seed)\n",
    "    output = pipe(prompt=prompt, video_length=len(frame_ids), generator=generator, frame_ids=frame_ids)\n",
    "    result.append(output.images[1:])\n",
    "\n",
    "# Concatenate chunks and save\n",
    "result = np.concatenate(result)\n",
    "result = [(r * 255).astype(\"uint8\") for r in result]"
   ]
  },
  {
   "cell_type": "code",
   "execution_count": 8,
   "metadata": {},
   "outputs": [],
   "source": [
    "def save_video_from_frames(frames, output_filename, fps=24):\n",
    "    \"\"\"\n",
    "    Save a list of frames as an MP4 video.\n",
    "\n",
    "    Parameters:\n",
    "    - frames: List of frames (numpy arrays of shape (height, width, 3)).\n",
    "    - output_filename: Output file name (e.g., 'output.mp4').\n",
    "    - fps: Frames per second for the video.\n",
    "    \"\"\"\n",
    "    if not frames:\n",
    "        print(\"No frames to save.\")\n",
    "        return\n",
    "\n",
    "    # Get the size of the frames\n",
    "    height, width, _ = frames[0].shape\n",
    "\n",
    "    # Define the codec and create the VideoWriter object\n",
    "    fourcc = cv2.VideoWriter_fourcc(*'mp4v')\n",
    "    video_writer = cv2.VideoWriter(output_filename, fourcc, fps, (width, height))\n",
    "\n",
    "    for frame in frames:\n",
    "        video_writer.write(frame)\n",
    "\n",
    "    video_writer.release()\n",
    "    print(f\"Video saved as {output_filename}\")"
   ]
  },
  {
   "cell_type": "code",
   "execution_count": null,
   "metadata": {},
   "outputs": [],
   "source": [
    "# import imageio\n",
    "# imageio.mimsave(\"Output.mp4\", result, format = 'mp4')"
   ]
  },
  {
   "cell_type": "code",
   "execution_count": null,
   "metadata": {},
   "outputs": [
    {
     "name": "stdout",
     "output_type": "stream",
     "text": [
      "Video saved as Output.mp4\n"
     ]
    }
   ],
   "source": [
    "# Save the video\n",
    "save_video_from_frames(result, 'Output.mp4', fps=FPS)"
   ]
  }
 ],
 "metadata": {
  "kernelspec": {
   "display_name": "Python 3",
   "language": "python",
   "name": "python3"
  },
  "language_info": {
   "codemirror_mode": {
    "name": "ipython",
    "version": 3
   },
   "file_extension": ".py",
   "mimetype": "text/x-python",
   "name": "python",
   "nbconvert_exporter": "python",
   "pygments_lexer": "ipython3",
   "version": "3.12.4"
  }
 },
 "nbformat": 4,
 "nbformat_minor": 2
}
